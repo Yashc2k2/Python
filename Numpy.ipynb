{
 "cells": [
  {
   "cell_type": "code",
   "execution_count": 1,
   "id": "2da115f8",
   "metadata": {
    "ExecuteTime": {
     "end_time": "2022-11-29T04:38:36.547509Z",
     "start_time": "2022-11-29T04:38:36.531812Z"
    }
   },
   "outputs": [],
   "source": [
    "#NUMPY"
   ]
  },
  {
   "cell_type": "code",
   "execution_count": 3,
   "id": "06046916",
   "metadata": {
    "ExecuteTime": {
     "end_time": "2022-11-29T04:50:27.773273Z",
     "start_time": "2022-11-29T04:50:24.273475Z"
    }
   },
   "outputs": [
    {
     "name": "stdout",
     "output_type": "stream",
     "text": [
      "Requirement already satisfied: numpy in c:\\users\\dell\\anaconda3\\lib\\site-packages (1.20.3)\n"
     ]
    }
   ],
   "source": [
    "!pip install numpy"
   ]
  },
  {
   "cell_type": "code",
   "execution_count": 4,
   "id": "1aa6d424",
   "metadata": {
    "ExecuteTime": {
     "end_time": "2022-11-29T05:50:26.093773Z",
     "start_time": "2022-11-29T05:50:25.667494Z"
    }
   },
   "outputs": [],
   "source": [
    "import numpy as np"
   ]
  },
  {
   "cell_type": "code",
   "execution_count": 5,
   "id": "66a28f4a",
   "metadata": {
    "ExecuteTime": {
     "end_time": "2022-11-29T05:50:26.351657Z",
     "start_time": "2022-11-29T05:50:26.327089Z"
    }
   },
   "outputs": [
    {
     "data": {
      "text/plain": [
       "numpy.ndarray"
      ]
     },
     "execution_count": 5,
     "metadata": {},
     "output_type": "execute_result"
    }
   ],
   "source": [
    "# Array Creation \n",
    "a=np.array(10)\n",
    "type(a)"
   ]
  },
  {
   "cell_type": "code",
   "execution_count": 10,
   "id": "dcf0ffec",
   "metadata": {
    "ExecuteTime": {
     "end_time": "2022-11-29T04:55:09.921686Z",
     "start_time": "2022-11-29T04:55:09.904814Z"
    }
   },
   "outputs": [
    {
     "data": {
      "text/plain": [
       "0"
      ]
     },
     "execution_count": 10,
     "metadata": {},
     "output_type": "execute_result"
    }
   ],
   "source": [
    "#Zero dimensial Array\n",
    "z=np.array(10)\n",
    "z.ndim"
   ]
  },
  {
   "cell_type": "code",
   "execution_count": 12,
   "id": "97d8a1e4",
   "metadata": {
    "ExecuteTime": {
     "end_time": "2022-11-29T04:57:27.061499Z",
     "start_time": "2022-11-29T04:57:27.051770Z"
    }
   },
   "outputs": [
    {
     "data": {
      "text/plain": [
       "1"
      ]
     },
     "execution_count": 12,
     "metadata": {},
     "output_type": "execute_result"
    }
   ],
   "source": [
    "#1 dimensional array\n",
    "b=np.array([10,11,12,13])\n",
    "b.ndim"
   ]
  },
  {
   "cell_type": "code",
   "execution_count": 2,
   "id": "a7053b34",
   "metadata": {
    "ExecuteTime": {
     "end_time": "2022-11-29T05:50:10.113553Z",
     "start_time": "2022-11-29T05:50:10.096557Z"
    }
   },
   "outputs": [
    {
     "ename": "SyntaxError",
     "evalue": "invalid syntax (Temp/ipykernel_9160/3086055855.py, line 2)",
     "output_type": "error",
     "traceback": [
      "\u001b[1;36m  File \u001b[1;32m\"C:\\Users\\Dell\\AppData\\Local\\Temp/ipykernel_9160/3086055855.py\"\u001b[1;36m, line \u001b[1;32m2\u001b[0m\n\u001b[1;33m    c np.array ([[10,12,13,14,15]])\u001b[0m\n\u001b[1;37m      ^\u001b[0m\n\u001b[1;31mSyntaxError\u001b[0m\u001b[1;31m:\u001b[0m invalid syntax\n"
     ]
    }
   ],
   "source": [
    "#2 dimensional array\n",
    "c np.array ([[10,12,13,14,15]])\n",
    "c.ndim"
   ]
  },
  {
   "cell_type": "code",
   "execution_count": 10,
   "id": "c37b38df",
   "metadata": {
    "ExecuteTime": {
     "end_time": "2022-11-29T05:53:04.692794Z",
     "start_time": "2022-11-29T05:53:04.678247Z"
    }
   },
   "outputs": [
    {
     "name": "stdout",
     "output_type": "stream",
     "text": [
      "float64\n"
     ]
    },
    {
     "data": {
      "text/plain": [
       "array([10., 15., 20., 25.])"
      ]
     },
     "execution_count": 10,
     "metadata": {},
     "output_type": "execute_result"
    }
   ],
   "source": [
    "#Change data type into other elements\n",
    "a=np.array([10,15,20,25])\n",
    "a.dtype\n",
    "\n",
    "\n",
    "a=np.array([10,15,20,25],dtype='float')\n",
    "print(a.dtype)\n",
    "a"
   ]
  },
  {
   "cell_type": "code",
   "execution_count": 18,
   "id": "61c2e714",
   "metadata": {
    "ExecuteTime": {
     "end_time": "2022-11-29T05:04:48.758603Z",
     "start_time": "2022-11-29T05:04:48.725897Z"
    }
   },
   "outputs": [
    {
     "data": {
      "text/plain": [
       "array([ 1,  3,  5,  7,  9, 11, 13, 15, 17, 19])"
      ]
     },
     "execution_count": 18,
     "metadata": {},
     "output_type": "execute_result"
    }
   ],
   "source": [
    "#Other ways of creating array\n",
    "\n",
    "#1) Arrange\n",
    "a=np.arange(1,21,2)\n",
    "a"
   ]
  },
  {
   "cell_type": "code",
   "execution_count": 19,
   "id": "adbb3fe7",
   "metadata": {
    "ExecuteTime": {
     "end_time": "2022-11-29T05:06:40.131904Z",
     "start_time": "2022-11-29T05:06:40.094066Z"
    }
   },
   "outputs": [
    {
     "data": {
      "text/plain": [
       "array([1.        , 1.28571429, 1.57142857, 1.85714286, 2.14285714,\n",
       "       2.42857143, 2.71428571, 3.        , 3.28571429, 3.57142857,\n",
       "       3.85714286, 4.14285714, 4.42857143, 4.71428571, 5.        ])"
      ]
     },
     "execution_count": 19,
     "metadata": {},
     "output_type": "execute_result"
    }
   ],
   "source": [
    "#2) Linspace\n",
    "b=np.linspace(1,5,15)\n",
    "b"
   ]
  },
  {
   "cell_type": "code",
   "execution_count": 20,
   "id": "52bc5e8b",
   "metadata": {
    "ExecuteTime": {
     "end_time": "2022-11-29T05:10:21.531291Z",
     "start_time": "2022-11-29T05:10:21.504166Z"
    }
   },
   "outputs": [
    {
     "data": {
      "text/plain": [
       "array([[0.79943048, 0.06380829, 0.35560816, 0.40399883, 0.32613735],\n",
       "       [0.1898173 , 0.70386885, 0.00941435, 0.41726602, 0.17666116],\n",
       "       [0.28235404, 0.9118813 , 0.70357745, 0.84091126, 0.64892406],\n",
       "       [0.8745347 , 0.36711972, 0.04227342, 0.17657267, 0.87871809],\n",
       "       [0.08051392, 0.37563651, 0.5864449 , 0.20903683, 0.41504256]])"
      ]
     },
     "execution_count": 20,
     "metadata": {},
     "output_type": "execute_result"
    }
   ],
   "source": [
    "#Random\n",
    "r=np.random.rand(5,5)\n",
    "r"
   ]
  },
  {
   "cell_type": "code",
   "execution_count": 21,
   "id": "d377ebc1",
   "metadata": {
    "ExecuteTime": {
     "end_time": "2022-11-29T05:14:28.476445Z",
     "start_time": "2022-11-29T05:14:28.444024Z"
    }
   },
   "outputs": [
    {
     "data": {
      "text/plain": [
       "array([0, 0, 0, 4, 0, 3, 1, 2, 2, 3])"
      ]
     },
     "execution_count": 21,
     "metadata": {},
     "output_type": "execute_result"
    }
   ],
   "source": [
    "R1=np.random.randint(5,size=10)\n",
    "R1"
   ]
  },
  {
   "cell_type": "code",
   "execution_count": 15,
   "id": "ecb2f45d",
   "metadata": {
    "ExecuteTime": {
     "end_time": "2022-11-29T06:04:23.885429Z",
     "start_time": "2022-11-29T06:04:23.872172Z"
    }
   },
   "outputs": [
    {
     "data": {
      "text/plain": [
       "array([[1, 2, 3],\n",
       "       [4, 5, 6]])"
      ]
     },
     "execution_count": 15,
     "metadata": {},
     "output_type": "execute_result"
    }
   ],
   "source": [
    "#Slicing and indexing of an array\n",
    "a=np.array([[1,2,3],[4,5,6]])\n",
    "a"
   ]
  },
  {
   "cell_type": "code",
   "execution_count": 16,
   "id": "919e9215",
   "metadata": {
    "ExecuteTime": {
     "end_time": "2022-11-29T06:04:26.255420Z",
     "start_time": "2022-11-29T06:04:26.231897Z"
    }
   },
   "outputs": [
    {
     "data": {
      "text/plain": [
       "6"
      ]
     },
     "execution_count": 16,
     "metadata": {},
     "output_type": "execute_result"
    }
   ],
   "source": [
    "a[1,2]"
   ]
  },
  {
   "cell_type": "code",
   "execution_count": 18,
   "id": "66d7f7f5",
   "metadata": {
    "ExecuteTime": {
     "end_time": "2022-11-29T06:04:42.978640Z",
     "start_time": "2022-11-29T06:04:42.962639Z"
    }
   },
   "outputs": [
    {
     "data": {
      "text/plain": [
       "array([[1, 2, 3],\n",
       "       [4, 5, 6]])"
      ]
     },
     "execution_count": 18,
     "metadata": {},
     "output_type": "execute_result"
    }
   ],
   "source": [
    "a[0:]"
   ]
  },
  {
   "cell_type": "code",
   "execution_count": 19,
   "id": "8bc826ad",
   "metadata": {
    "ExecuteTime": {
     "end_time": "2022-11-29T06:05:27.041558Z",
     "start_time": "2022-11-29T06:05:27.025472Z"
    }
   },
   "outputs": [
    {
     "data": {
      "text/plain": [
       "array([2, 3])"
      ]
     },
     "execution_count": 19,
     "metadata": {},
     "output_type": "execute_result"
    }
   ],
   "source": [
    "a[0,1:]"
   ]
  },
  {
   "cell_type": "code",
   "execution_count": 20,
   "id": "894cb3be",
   "metadata": {
    "ExecuteTime": {
     "end_time": "2022-11-29T06:05:46.547720Z",
     "start_time": "2022-11-29T06:05:46.523714Z"
    }
   },
   "outputs": [
    {
     "data": {
      "text/plain": [
       "array([[2, 3],\n",
       "       [5, 6]])"
      ]
     },
     "execution_count": 20,
     "metadata": {},
     "output_type": "execute_result"
    }
   ],
   "source": [
    "a[0:,1:]"
   ]
  },
  {
   "cell_type": "code",
   "execution_count": 21,
   "id": "9ac82a2d",
   "metadata": {
    "ExecuteTime": {
     "end_time": "2022-11-29T06:08:29.962058Z",
     "start_time": "2022-11-29T06:08:29.932253Z"
    }
   },
   "outputs": [
    {
     "data": {
      "text/plain": [
       "array([1, 6])"
      ]
     },
     "execution_count": 21,
     "metadata": {},
     "output_type": "execute_result"
    }
   ],
   "source": [
    "#1 and 6\n",
    "a[[0,1],[0,2]]"
   ]
  },
  {
   "cell_type": "code",
   "execution_count": 23,
   "id": "e2a56615",
   "metadata": {
    "ExecuteTime": {
     "end_time": "2022-11-29T06:09:21.892954Z",
     "start_time": "2022-11-29T06:09:21.871928Z"
    }
   },
   "outputs": [
    {
     "data": {
      "text/plain": [
       "array([[0.73450482, 0.9098575 ],\n",
       "       [0.71505094, 0.03023201],\n",
       "       [0.51399476, 0.08416185],\n",
       "       [0.92352261, 0.2261553 ],\n",
       "       [0.66287295, 0.79700742]])"
      ]
     },
     "execution_count": 23,
     "metadata": {},
     "output_type": "execute_result"
    }
   ],
   "source": [
    "#Reshaping  the arrays\n",
    "a=np.random.rand(5,2)\n",
    "a"
   ]
  },
  {
   "cell_type": "code",
   "execution_count": 24,
   "id": "474913ee",
   "metadata": {
    "ExecuteTime": {
     "end_time": "2022-11-29T06:10:02.714088Z",
     "start_time": "2022-11-29T06:10:02.701302Z"
    }
   },
   "outputs": [
    {
     "data": {
      "text/plain": [
       "array([[0.73450482, 0.9098575 , 0.71505094, 0.03023201, 0.51399476],\n",
       "       [0.08416185, 0.92352261, 0.2261553 , 0.66287295, 0.79700742]])"
      ]
     },
     "execution_count": 24,
     "metadata": {},
     "output_type": "execute_result"
    }
   ],
   "source": [
    "a.reshape(2,5)"
   ]
  },
  {
   "cell_type": "code",
   "execution_count": 25,
   "id": "dab98bf9",
   "metadata": {
    "ExecuteTime": {
     "end_time": "2022-11-29T06:11:41.889290Z",
     "start_time": "2022-11-29T06:11:41.861197Z"
    }
   },
   "outputs": [
    {
     "data": {
      "text/plain": [
       "array([[0.73450482],\n",
       "       [0.9098575 ],\n",
       "       [0.71505094],\n",
       "       [0.03023201],\n",
       "       [0.51399476],\n",
       "       [0.08416185],\n",
       "       [0.92352261],\n",
       "       [0.2261553 ],\n",
       "       [0.66287295],\n",
       "       [0.79700742]])"
      ]
     },
     "execution_count": 25,
     "metadata": {},
     "output_type": "execute_result"
    }
   ],
   "source": [
    "a.reshape(10,1)"
   ]
  },
  {
   "cell_type": "code",
   "execution_count": 26,
   "id": "29d8d751",
   "metadata": {
    "ExecuteTime": {
     "end_time": "2022-11-29T06:12:04.782520Z",
     "start_time": "2022-11-29T06:12:04.764945Z"
    }
   },
   "outputs": [
    {
     "data": {
      "text/plain": [
       "array([[0.73450482, 0.9098575 , 0.71505094, 0.03023201, 0.51399476,\n",
       "        0.08416185, 0.92352261, 0.2261553 , 0.66287295, 0.79700742]])"
      ]
     },
     "execution_count": 26,
     "metadata": {},
     "output_type": "execute_result"
    }
   ],
   "source": [
    "a.reshape(1,10)"
   ]
  },
  {
   "cell_type": "code",
   "execution_count": 27,
   "id": "31126c84",
   "metadata": {
    "ExecuteTime": {
     "end_time": "2022-11-29T06:12:39.769988Z",
     "start_time": "2022-11-29T06:12:39.760283Z"
    }
   },
   "outputs": [
    {
     "data": {
      "text/plain": [
       "array([[0.73450482, 0.9098575 ],\n",
       "       [0.71505094, 0.03023201],\n",
       "       [0.51399476, 0.08416185],\n",
       "       [0.92352261, 0.2261553 ],\n",
       "       [0.66287295, 0.79700742]])"
      ]
     },
     "execution_count": 27,
     "metadata": {},
     "output_type": "execute_result"
    }
   ],
   "source": [
    "a.reshape(5,-1)"
   ]
  },
  {
   "cell_type": "code",
   "execution_count": 30,
   "id": "c8e4caca",
   "metadata": {
    "ExecuteTime": {
     "end_time": "2022-11-29T06:15:05.976417Z",
     "start_time": "2022-11-29T06:15:05.960078Z"
    }
   },
   "outputs": [
    {
     "data": {
      "text/plain": [
       "array([[0.73450482, 0.9098575 ],\n",
       "       [0.71505094, 0.03023201],\n",
       "       [0.51399476, 0.08416185],\n",
       "       [0.92352261, 0.2261553 ],\n",
       "       [0.66287295, 0.79700742]])"
      ]
     },
     "execution_count": 30,
     "metadata": {},
     "output_type": "execute_result"
    }
   ],
   "source": [
    "a.reshape(5,-10)"
   ]
  },
  {
   "cell_type": "code",
   "execution_count": 31,
   "id": "602593cc",
   "metadata": {
    "ExecuteTime": {
     "end_time": "2022-11-29T06:15:46.049093Z",
     "start_time": "2022-11-29T06:15:46.030044Z"
    }
   },
   "outputs": [
    {
     "data": {
      "text/plain": [
       "0.03023201108231055"
      ]
     },
     "execution_count": 31,
     "metadata": {},
     "output_type": "execute_result"
    }
   ],
   "source": [
    "#Agreegate function\n",
    "a.min()"
   ]
  },
  {
   "cell_type": "code",
   "execution_count": 32,
   "id": "84272c77",
   "metadata": {
    "ExecuteTime": {
     "end_time": "2022-11-29T06:15:53.112373Z",
     "start_time": "2022-11-29T06:15:53.088018Z"
    }
   },
   "outputs": [
    {
     "data": {
      "text/plain": [
       "0.3156645669438821"
      ]
     },
     "execution_count": 32,
     "metadata": {},
     "output_type": "execute_result"
    }
   ],
   "source": [
    "a.std()"
   ]
  },
  {
   "cell_type": "code",
   "execution_count": 33,
   "id": "dcaecf46",
   "metadata": {
    "ExecuteTime": {
     "end_time": "2022-11-29T06:16:00.906272Z",
     "start_time": "2022-11-29T06:16:00.892806Z"
    }
   },
   "outputs": [
    {
     "data": {
      "text/plain": [
       "0.09964411882386864"
      ]
     },
     "execution_count": 33,
     "metadata": {},
     "output_type": "execute_result"
    }
   ],
   "source": [
    "a.var()"
   ]
  },
  {
   "cell_type": "code",
   "execution_count": 34,
   "id": "31bebad6",
   "metadata": {
    "ExecuteTime": {
     "end_time": "2022-11-29T06:17:40.132544Z",
     "start_time": "2022-11-29T06:17:40.108422Z"
    }
   },
   "outputs": [],
   "source": [
    "#Staking\n",
    "a=np.array([1,2,3,4,5])\n",
    "b=np.array([6,7,8,9,10])"
   ]
  },
  {
   "cell_type": "code",
   "execution_count": 36,
   "id": "c792763d",
   "metadata": {
    "ExecuteTime": {
     "end_time": "2022-11-29T06:17:58.842762Z",
     "start_time": "2022-11-29T06:17:58.826553Z"
    }
   },
   "outputs": [
    {
     "data": {
      "text/plain": [
       "array([ 1,  2,  3,  4,  5,  6,  7,  8,  9, 10])"
      ]
     },
     "execution_count": 36,
     "metadata": {},
     "output_type": "execute_result"
    }
   ],
   "source": [
    "np.hstack([a,b])"
   ]
  },
  {
   "cell_type": "code",
   "execution_count": 37,
   "id": "794c7ea7",
   "metadata": {
    "ExecuteTime": {
     "end_time": "2022-11-29T06:18:14.298008Z",
     "start_time": "2022-11-29T06:18:14.281688Z"
    }
   },
   "outputs": [
    {
     "data": {
      "text/plain": [
       "array([[ 1,  2,  3,  4,  5],\n",
       "       [ 6,  7,  8,  9, 10]])"
      ]
     },
     "execution_count": 37,
     "metadata": {},
     "output_type": "execute_result"
    }
   ],
   "source": [
    "np.vstack([a,b])"
   ]
  },
  {
   "cell_type": "code",
   "execution_count": null,
   "id": "bd4768f4",
   "metadata": {},
   "outputs": [],
   "source": []
  },
  {
   "cell_type": "code",
   "execution_count": null,
   "id": "4bdd2fa5",
   "metadata": {},
   "outputs": [],
   "source": []
  },
  {
   "cell_type": "code",
   "execution_count": null,
   "id": "d419311c",
   "metadata": {},
   "outputs": [],
   "source": []
  },
  {
   "cell_type": "code",
   "execution_count": null,
   "id": "167e1dce",
   "metadata": {},
   "outputs": [],
   "source": []
  },
  {
   "cell_type": "code",
   "execution_count": null,
   "id": "10c8cebb",
   "metadata": {},
   "outputs": [],
   "source": []
  },
  {
   "cell_type": "code",
   "execution_count": null,
   "id": "eca47184",
   "metadata": {},
   "outputs": [],
   "source": []
  },
  {
   "cell_type": "code",
   "execution_count": null,
   "id": "2593f86c",
   "metadata": {},
   "outputs": [],
   "source": []
  }
 ],
 "metadata": {
  "kernelspec": {
   "display_name": "Python 3 (ipykernel)",
   "language": "python",
   "name": "python3"
  },
  "language_info": {
   "codemirror_mode": {
    "name": "ipython",
    "version": 3
   },
   "file_extension": ".py",
   "mimetype": "text/x-python",
   "name": "python",
   "nbconvert_exporter": "python",
   "pygments_lexer": "ipython3",
   "version": "3.9.7"
  }
 },
 "nbformat": 4,
 "nbformat_minor": 5
}
